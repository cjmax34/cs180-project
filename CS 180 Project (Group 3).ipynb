{
  "cells": [
    {
      "cell_type": "markdown",
      "metadata": {
        "id": "kJAbqk29jP5E"
      },
      "source": [
        "# **Predicting Stress Level By Training a Multilayer Perceptron**\n",
        "\n",
        "This machine learning project aims to predict the stress level being experienced by an individual given their sleep health and various lifestyle habits. The project uses a Multilayer Perceptron (MLP) as the machine learning algorithm. [Sleep Health Data](https://www.kaggle.com/datasets/imaginativecoder/sleep-health-data-sampledt) is the dataset used for the project, and is acquired from Kaggle. "
      ]
    },
    {
      "cell_type": "markdown",
      "metadata": {},
      "source": [
        "This is a course requirement for CS 180 (Artificial Intelligence) Course of the Department of Computer Science, College of Engineering, University of the Philippines, Diliman under the guidance of Carlo Raquel for A.Y. 2023-2024.\n",
        "\n",
        "- MAXIMO, Calvin James T.\n",
        "- MENDOZA, Janelle M.\n",
        "- MURILLO, Joana Marie V.\n",
        "\n",
        "The GitHub repository for this project can be accessed [here](https://github.com/cjmax34/cs180-project)."
      ]
    },
    {
      "cell_type": "markdown",
      "metadata": {},
      "source": [
        "## 1. Importing Libraries\n",
        "\n",
        "First, we have to import the libraries needed for the project. The libraries imported here are for loading the dataset, and performing exploratory data analysis (EDA). Additional libraries for modeling, and metrics will be imported later in the notebook."
      ]
    },
    {
      "cell_type": "code",
      "execution_count": 1,
      "metadata": {},
      "outputs": [],
      "source": [
        "import pandas as pd\n",
        "import numpy as np\n",
        "import matplotlib.pyplot as plt\n",
        "import seaborn as sns"
      ]
    },
    {
      "cell_type": "markdown",
      "metadata": {},
      "source": [
        "## 2. Loading the dataset\n",
        "\n",
        "Next, we will now load the dataset and store it in a variable named `dataset`."
      ]
    },
    {
      "cell_type": "code",
      "execution_count": 2,
      "metadata": {},
      "outputs": [],
      "source": [
        "dataset = pd.read_csv('Sleep_Data_Sampled.csv')"
      ]
    },
    {
      "cell_type": "markdown",
      "metadata": {},
      "source": [
        "## 3. Performing Exploratory Data Analysis (EDA)\n",
        "\n",
        "Now we will perform EDA on our dataset. This is important to help us understand the dataset more before we make assumptions. There might be patterns, trends, and relationships in the dataset that may not be visible at first glance. There might also be rows that contain missing values, outliers, inconsistencies, or biases, which could lead to inaccurate results. By gaining a deeper understanding of the dataset at hand through performing EDA, we are able to choose the appropriate techniques and approaches in training the model."
      ]
    },
    {
      "cell_type": "markdown",
      "metadata": {},
      "source": [
        "### Data Exploration"
      ]
    },
    {
      "cell_type": "markdown",
      "metadata": {},
      "source": [
        "#### Shape of dataset\n",
        "\n",
        "We want to know the shape of the dataset, or the number of rows and columns it has. We can easily do this by calling `shape()` on `dataset`. "
      ]
    },
    {
      "cell_type": "code",
      "execution_count": 3,
      "metadata": {},
      "outputs": [
        {
          "data": {
            "text/plain": [
              "(15000, 13)"
            ]
          },
          "execution_count": 3,
          "metadata": {},
          "output_type": "execute_result"
        }
      ],
      "source": [
        "# Prints (# of rows, # of columns)\n",
        "dataset.shape"
      ]
    },
    {
      "cell_type": "markdown",
      "metadata": {},
      "source": [
        "Our dataset has 15000 rows (!!) and 13 columns/features."
      ]
    },
    {
      "cell_type": "markdown",
      "metadata": {},
      "source": [
        "#### Getting information about the dataset\n",
        "\n",
        "We want more information about the dataset. We can do this by calling `info()` on `dataset`. This provides us essential information such as the number of columns, column names, and data types of each column."
      ]
    },
    {
      "cell_type": "code",
      "execution_count": 4,
      "metadata": {},
      "outputs": [
        {
          "name": "stdout",
          "output_type": "stream",
          "text": [
            "<class 'pandas.core.frame.DataFrame'>\n",
            "RangeIndex: 15000 entries, 0 to 14999\n",
            "Data columns (total 13 columns):\n",
            " #   Column                   Non-Null Count  Dtype  \n",
            "---  ------                   --------------  -----  \n",
            " 0   Person ID                15000 non-null  int64  \n",
            " 1   Gender                   15000 non-null  object \n",
            " 2   Age                      15000 non-null  int64  \n",
            " 3   Occupation               15000 non-null  object \n",
            " 4   Sleep Duration           15000 non-null  float64\n",
            " 5   Quality of Sleep         15000 non-null  int64  \n",
            " 6   Physical Activity Level  15000 non-null  int64  \n",
            " 7   Stress Level             15000 non-null  int64  \n",
            " 8   BMI Category             15000 non-null  object \n",
            " 9   Blood Pressure           15000 non-null  object \n",
            " 10  Heart Rate               15000 non-null  int64  \n",
            " 11  Daily Steps              15000 non-null  int64  \n",
            " 12  Sleep Disorder           15000 non-null  object \n",
            "dtypes: float64(1), int64(7), object(5)\n",
            "memory usage: 1.5+ MB\n"
          ]
        }
      ],
      "source": [
        "# Provides information about the dataset\n",
        "dataset.info(); "
      ]
    },
    {
      "cell_type": "code",
      "execution_count": 5,
      "metadata": {},
      "outputs": [
        {
          "data": {
            "text/plain": [
              "Index(['Person ID', 'Gender', 'Age', 'Occupation', 'Sleep Duration',\n",
              "       'Quality of Sleep', 'Physical Activity Level', 'Stress Level',\n",
              "       'BMI Category', 'Blood Pressure', 'Heart Rate', 'Daily Steps',\n",
              "       'Sleep Disorder'],\n",
              "      dtype='object')"
            ]
          },
          "execution_count": 5,
          "metadata": {},
          "output_type": "execute_result"
        }
      ],
      "source": [
        "# Print column names of dataset\n",
        "dataset.columns"
      ]
    },
    {
      "cell_type": "markdown",
      "metadata": {},
      "source": [
        "We can see that there are 13 columns in total, namely: Person ID, Gender, Age, Occupation, Sleep Duration, Quality of Sleep, Physical Activity Level, Stress Level, BMI Category, Blood Pressure, Heart Rate, Daily Steps, and Sleep Disorder. \n",
        "\n",
        "The data types across all columns are float, int, and object (string)."
      ]
    },
    {
      "cell_type": "markdown",
      "metadata": {},
      "source": [
        "#### Unique values per column\n",
        "\n",
        "In this part, we want to identify the unique values for each of the dataset's columns/features. This helps us ensure the consistent formatting of the values across all columms and assess the complexity of each categorical feature (number of unique values)."
      ]
    },
    {
      "cell_type": "code",
      "execution_count": 10,
      "metadata": {},
      "outputs": [
        {
          "data": {
            "text/plain": [
              "Person ID                  15000\n",
              "Gender                         2\n",
              "Age                           33\n",
              "Occupation                    11\n",
              "Sleep Duration                55\n",
              "Quality of Sleep               6\n",
              "Physical Activity Level       37\n",
              "Stress Level                   6\n",
              "BMI Category                   4\n",
              "Blood Pressure                25\n",
              "Heart Rate                    22\n",
              "Daily Steps                   80\n",
              "Sleep Disorder                 3\n",
              "dtype: int64"
            ]
          },
          "execution_count": 10,
          "metadata": {},
          "output_type": "execute_result"
        }
      ],
      "source": [
        "# Number of unique values per column\n",
        "dataset.nunique()"
      ]
    },
    {
      "cell_type": "markdown",
      "metadata": {},
      "source": [
        "The number of unique Person IDs is 15000, which makes sense because it is used to identify an individual in the dataset. We will deal with this later."
      ]
    },
    {
      "cell_type": "code",
      "execution_count": 18,
      "metadata": {},
      "outputs": [
        {
          "name": "stdout",
          "output_type": "stream",
          "text": [
            "Gender: ['Male', 'Female']\n",
            "Occupation: ['Doctor', 'Teacher', 'Software Engineer', 'Lawyer', 'Engineer', 'Accountant', 'Nurse', 'Scientist', 'Manager', 'Salesperson', 'Sales Representative']\n",
            "BMI Category: ['Normal Weight', 'Normal', 'Overweight', 'Obese']\n",
            "Blood Pressure: ['120/80', '135/90', '126/83', '125/80', '130/85', '140/95', '115/75', '122/80', '118/76', '128/85', '128/84', '119/77', '125/82', '118/75', '115/78', '121/79', '117/76', '140/90', '135/88', '129/84', '130/86', '139/91', '132/87', '131/86', '142/92']\n",
            "Sleep Disorder: ['Healthy', 'Sleep Apnea', 'Insomnia']\n"
          ]
        }
      ],
      "source": [
        "# Unique values per categorical feature\n",
        "for col in dataset.select_dtypes(include='object').columns:\n",
        "    print(f\"{col}: {list(dataset[col].unique())}\")"
      ]
    },
    {
      "cell_type": "markdown",
      "metadata": {},
      "source": [
        "From the output above, it seems that the formatting of each column/feature's values is consistent. However, we have to preprocess some of the values, such as \"Male\" and \"Female\" in the Gender category, \"Normal Weight\" in the BMI Category feature, and the systolic and diastolic blood pressure measurements in the Blood Pressure category. We will delve into this later on."
      ]
    },
    {
      "cell_type": "markdown",
      "metadata": {},
      "source": [
        "#### Statistical summary\n",
        "\n",
        "The `describe()` method returns a statistical summary of the numerical features in the given dataset. For each column, it returns these information.\n",
        "\n",
        "count - The number of not-empty values.\\\n",
        "mean - The average (mean) value.\\\n",
        "std - The standard deviation.\\\n",
        "min - the minimum value.\\\n",
        "25% - The 25% percentile.\\\n",
        "50% - The 50% percentile.\\\n",
        "75% - The 75% percentile.\\\n",
        "max - the maximum value.\n",
        "\n",
        "Reference: https://www.w3schools.com/python/pandas/ref_df_describe.asp"
      ]
    },
    {
      "cell_type": "code",
      "execution_count": 6,
      "metadata": {},
      "outputs": [
        {
          "data": {
            "text/html": [
              "<div>\n",
              "<style scoped>\n",
              "    .dataframe tbody tr th:only-of-type {\n",
              "        vertical-align: middle;\n",
              "    }\n",
              "\n",
              "    .dataframe tbody tr th {\n",
              "        vertical-align: top;\n",
              "    }\n",
              "\n",
              "    .dataframe thead th {\n",
              "        text-align: right;\n",
              "    }\n",
              "</style>\n",
              "<table border=\"1\" class=\"dataframe\">\n",
              "  <thead>\n",
              "    <tr style=\"text-align: right;\">\n",
              "      <th></th>\n",
              "      <th>Person ID</th>\n",
              "      <th>Age</th>\n",
              "      <th>Sleep Duration</th>\n",
              "      <th>Quality of Sleep</th>\n",
              "      <th>Physical Activity Level</th>\n",
              "      <th>Stress Level</th>\n",
              "      <th>Heart Rate</th>\n",
              "      <th>Daily Steps</th>\n",
              "    </tr>\n",
              "  </thead>\n",
              "  <tbody>\n",
              "    <tr>\n",
              "      <th>count</th>\n",
              "      <td>15000.000000</td>\n",
              "      <td>15000.000000</td>\n",
              "      <td>15000.000000</td>\n",
              "      <td>15000.000000</td>\n",
              "      <td>15000.000000</td>\n",
              "      <td>15000.000000</td>\n",
              "      <td>15000.000000</td>\n",
              "      <td>15000.000000</td>\n",
              "    </tr>\n",
              "    <tr>\n",
              "      <th>mean</th>\n",
              "      <td>7500.500000</td>\n",
              "      <td>44.130667</td>\n",
              "      <td>6.997327</td>\n",
              "      <td>7.131267</td>\n",
              "      <td>59.925000</td>\n",
              "      <td>5.654800</td>\n",
              "      <td>70.857533</td>\n",
              "      <td>6795.080000</td>\n",
              "    </tr>\n",
              "    <tr>\n",
              "      <th>std</th>\n",
              "      <td>4330.271354</td>\n",
              "      <td>6.840091</td>\n",
              "      <td>0.615187</td>\n",
              "      <td>1.053111</td>\n",
              "      <td>16.814374</td>\n",
              "      <td>1.393568</td>\n",
              "      <td>3.614836</td>\n",
              "      <td>1329.706484</td>\n",
              "    </tr>\n",
              "    <tr>\n",
              "      <th>min</th>\n",
              "      <td>1.000000</td>\n",
              "      <td>27.000000</td>\n",
              "      <td>5.800000</td>\n",
              "      <td>4.000000</td>\n",
              "      <td>30.000000</td>\n",
              "      <td>3.000000</td>\n",
              "      <td>65.000000</td>\n",
              "      <td>3000.000000</td>\n",
              "    </tr>\n",
              "    <tr>\n",
              "      <th>25%</th>\n",
              "      <td>3750.750000</td>\n",
              "      <td>40.000000</td>\n",
              "      <td>6.500000</td>\n",
              "      <td>6.000000</td>\n",
              "      <td>45.000000</td>\n",
              "      <td>4.000000</td>\n",
              "      <td>68.000000</td>\n",
              "      <td>6000.000000</td>\n",
              "    </tr>\n",
              "    <tr>\n",
              "      <th>50%</th>\n",
              "      <td>7500.500000</td>\n",
              "      <td>44.000000</td>\n",
              "      <td>7.000000</td>\n",
              "      <td>7.000000</td>\n",
              "      <td>60.000000</td>\n",
              "      <td>6.000000</td>\n",
              "      <td>70.000000</td>\n",
              "      <td>6500.000000</td>\n",
              "    </tr>\n",
              "    <tr>\n",
              "      <th>75%</th>\n",
              "      <td>11250.250000</td>\n",
              "      <td>48.000000</td>\n",
              "      <td>7.450000</td>\n",
              "      <td>8.000000</td>\n",
              "      <td>75.000000</td>\n",
              "      <td>6.000000</td>\n",
              "      <td>72.000000</td>\n",
              "      <td>7600.000000</td>\n",
              "    </tr>\n",
              "    <tr>\n",
              "      <th>max</th>\n",
              "      <td>15000.000000</td>\n",
              "      <td>59.000000</td>\n",
              "      <td>8.500000</td>\n",
              "      <td>9.000000</td>\n",
              "      <td>90.000000</td>\n",
              "      <td>8.000000</td>\n",
              "      <td>86.000000</td>\n",
              "      <td>10000.000000</td>\n",
              "    </tr>\n",
              "  </tbody>\n",
              "</table>\n",
              "</div>"
            ],
            "text/plain": [
              "          Person ID           Age  Sleep Duration  Quality of Sleep  \\\n",
              "count  15000.000000  15000.000000    15000.000000      15000.000000   \n",
              "mean    7500.500000     44.130667        6.997327          7.131267   \n",
              "std     4330.271354      6.840091        0.615187          1.053111   \n",
              "min        1.000000     27.000000        5.800000          4.000000   \n",
              "25%     3750.750000     40.000000        6.500000          6.000000   \n",
              "50%     7500.500000     44.000000        7.000000          7.000000   \n",
              "75%    11250.250000     48.000000        7.450000          8.000000   \n",
              "max    15000.000000     59.000000        8.500000          9.000000   \n",
              "\n",
              "       Physical Activity Level  Stress Level    Heart Rate   Daily Steps  \n",
              "count             15000.000000  15000.000000  15000.000000  15000.000000  \n",
              "mean                 59.925000      5.654800     70.857533   6795.080000  \n",
              "std                  16.814374      1.393568      3.614836   1329.706484  \n",
              "min                  30.000000      3.000000     65.000000   3000.000000  \n",
              "25%                  45.000000      4.000000     68.000000   6000.000000  \n",
              "50%                  60.000000      6.000000     70.000000   6500.000000  \n",
              "75%                  75.000000      6.000000     72.000000   7600.000000  \n",
              "max                  90.000000      8.000000     86.000000  10000.000000  "
            ]
          },
          "execution_count": 6,
          "metadata": {},
          "output_type": "execute_result"
        }
      ],
      "source": [
        "dataset.describe()"
      ]
    },
    {
      "cell_type": "markdown",
      "metadata": {},
      "source": [
        "We can see from the table above that all numerical features have the same count (15000).\n",
        "\n",
        "The average age is 44.13 years. The average sleep duration is 7 hours. The average quality of sleep (1-10, 1 being the lowest and 10 being the highest) is 7.13. The average amount of daily physical activity is 59.93 minutes, or nearly an hour. The average stress level (1-10, 1 being the lowest and 10 being the highest) is 5.65. The average heart rate is 70.86 beats per minute. The average number of daily steps is 6795."
      ]
    },
    {
      "cell_type": "markdown",
      "metadata": {},
      "source": [
        "#### Checking for the presence of null values\n",
        "\n",
        "An important part of data exploration is checking for the presence of null values in the dataset. It is vital to handle null values because they can produce inaccurate or misleading results. Some machine learning algorithms, especially MLP, also cannot handle null values. Ultimately, it helps us in deciding the best way to handle the null values through various methods such as imputation and removal of rows."
      ]
    },
    {
      "cell_type": "code",
      "execution_count": 7,
      "metadata": {},
      "outputs": [
        {
          "data": {
            "text/plain": [
              "Person ID                  0\n",
              "Gender                     0\n",
              "Age                        0\n",
              "Occupation                 0\n",
              "Sleep Duration             0\n",
              "Quality of Sleep           0\n",
              "Physical Activity Level    0\n",
              "Stress Level               0\n",
              "BMI Category               0\n",
              "Blood Pressure             0\n",
              "Heart Rate                 0\n",
              "Daily Steps                0\n",
              "Sleep Disorder             0\n",
              "dtype: int64"
            ]
          },
          "execution_count": 7,
          "metadata": {},
          "output_type": "execute_result"
        }
      ],
      "source": [
        "# Checking for null values\n",
        "dataset.isnull().sum()"
      ]
    },
    {
      "cell_type": "markdown",
      "metadata": {},
      "source": [
        "Fortunately, there are no null values across **ALL** rows of the dataset."
      ]
    },
    {
      "cell_type": "markdown",
      "metadata": {},
      "source": [
        "### Data Visualization\n",
        "\n",
        "In progress..."
      ]
    }
  ],
  "metadata": {
    "colab": {
      "provenance": []
    },
    "kernelspec": {
      "display_name": "Python 3",
      "language": "python",
      "name": "python3"
    },
    "language_info": {
      "codemirror_mode": {
        "name": "ipython",
        "version": 3
      },
      "file_extension": ".py",
      "mimetype": "text/x-python",
      "name": "python",
      "nbconvert_exporter": "python",
      "pygments_lexer": "ipython3",
      "version": "3.12.3"
    }
  },
  "nbformat": 4,
  "nbformat_minor": 0
}
