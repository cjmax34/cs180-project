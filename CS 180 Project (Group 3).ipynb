{
  "cells": [
    {
      "cell_type": "markdown",
      "metadata": {
        "id": "kJAbqk29jP5E"
      },
      "source": [
        "# **Predicting Stress Level By Training a Multilayer Perceptron**\n",
        "\n",
        "This machine learning project aims to predict the stress level being experienced by an individual given their sleep health and various lifestyle habits. The project uses a Multilayer Perceptron (MLP) as the machine learning algorithm. [Sleep Health Data](https://www.kaggle.com/datasets/imaginativecoder/sleep-health-data-sampled) is the dataset used for the project, and is acquired from Kaggle. "
      ]
    },
    {
      "cell_type": "markdown",
      "metadata": {},
      "source": [
        "This is a course requirement for CS 180 (Artificial Intelligence) Course of the Department of Computer Science, College of Engineering, University of the Philippines, Diliman under the guidance of Carlo Raquel for A.Y. 2023-2024.\n",
        "\n",
        "- MAXIMO, Calvin James T.\n",
        "- MENDOZA, Janelle M.\n",
        "- MURILLO, Joana Marie V.\n",
        "\n",
        "The GitHub repository for this project can be accessed [here](https://github.com/cjmax34/cs180-project)."
      ]
    },
    {
      "cell_type": "markdown",
      "metadata": {},
      "source": [
        "## 1. Importing libraries\n",
        "\n",
        "First, we have to import the libraries needed for the project. The libraries imported here are for loading the dataset, and performing exploratory data analysis (EDA). Additional libraries for modeling, and metrics will be imported later in the notebook."
      ]
    },
    {
      "cell_type": "code",
      "execution_count": 1,
      "metadata": {},
      "outputs": [],
      "source": [
        "import pandas as pd\n",
        "import numpy as np\n",
        "import matplotlib.pyplot as plt\n",
        "import seaborn as sns"
      ]
    },
    {
      "cell_type": "markdown",
      "metadata": {},
      "source": [
        "## 2. Loading the dataset\n",
        "\n",
        "Next, we will now load the dataset and store it in a variable named `dataset`."
      ]
    },
    {
      "cell_type": "code",
      "execution_count": 2,
      "metadata": {},
      "outputs": [],
      "source": [
        "dataset = pd.read_csv('Sleep_Data_Sampled.csv')"
      ]
    },
    {
      "cell_type": "markdown",
      "metadata": {},
      "source": [
        "## 3. Performing Exploratory Data Analysis (EDA)\n",
        "\n",
        "Now we will perform EDA on our dataset. This is important to help us understand the dataset more before we make assumptions. There might be patterns, trends, and relationships in the dataset that may not be visible at first glance. There might also be rows that contain missing values, outliers, inconsistencies, or biases, which could lead to inaccurate results. By gaining a deeper understanding of the dataset at hand through performing EDA, we are able to choose the appropriate techniques and approaches in training the model."
      ]
    },
    {
      "cell_type": "markdown",
      "metadata": {},
      "source": [
        "### Data exploration"
      ]
    },
    {
      "cell_type": "markdown",
      "metadata": {},
      "source": [
        "#### Shape of dataset\n",
        "\n",
        "We want to know the shape of the dataset, or the number of rows and columns it has. We can easily do this by calling `shape()` on `dataset`. "
      ]
    },
    {
      "cell_type": "code",
      "execution_count": 3,
      "metadata": {},
      "outputs": [
        {
          "data": {
            "text/plain": [
              "(15000, 13)"
            ]
          },
          "execution_count": 3,
          "metadata": {},
          "output_type": "execute_result"
        }
      ],
      "source": [
        "# Prints (# of rows, # of columns)\n",
        "dataset.shape"
      ]
    },
    {
      "cell_type": "markdown",
      "metadata": {},
      "source": [
        "Our dataset has 15000 rows (!!) and 13 columns/features."
      ]
    },
    {
      "cell_type": "markdown",
      "metadata": {},
      "source": [
        "#### Getting information about the dataset\n",
        "\n",
        "We want more information about the dataset. We can do this by calling `info()` on `dataset`. This provides us essential information such as the number of columns, column names, and data types of each column."
      ]
    },
    {
      "cell_type": "code",
      "execution_count": 4,
      "metadata": {},
      "outputs": [
        {
          "name": "stdout",
          "output_type": "stream",
          "text": [
            "<class 'pandas.core.frame.DataFrame'>\n",
            "RangeIndex: 15000 entries, 0 to 14999\n",
            "Data columns (total 13 columns):\n",
            " #   Column                   Non-Null Count  Dtype  \n",
            "---  ------                   --------------  -----  \n",
            " 0   Person ID                15000 non-null  int64  \n",
            " 1   Gender                   15000 non-null  object \n",
            " 2   Age                      15000 non-null  int64  \n",
            " 3   Occupation               15000 non-null  object \n",
            " 4   Sleep Duration           15000 non-null  float64\n",
            " 5   Quality of Sleep         15000 non-null  int64  \n",
            " 6   Physical Activity Level  15000 non-null  int64  \n",
            " 7   Stress Level             15000 non-null  int64  \n",
            " 8   BMI Category             15000 non-null  object \n",
            " 9   Blood Pressure           15000 non-null  object \n",
            " 10  Heart Rate               15000 non-null  int64  \n",
            " 11  Daily Steps              15000 non-null  int64  \n",
            " 12  Sleep Disorder           15000 non-null  object \n",
            "dtypes: float64(1), int64(7), object(5)\n",
            "memory usage: 1.5+ MB\n"
          ]
        }
      ],
      "source": [
        "# Provides information about the dataset\n",
        "dataset.info(); "
      ]
    },
    {
      "cell_type": "code",
      "execution_count": 5,
      "metadata": {},
      "outputs": [
        {
          "data": {
            "text/plain": [
              "Index(['Person ID', 'Gender', 'Age', 'Occupation', 'Sleep Duration',\n",
              "       'Quality of Sleep', 'Physical Activity Level', 'Stress Level',\n",
              "       'BMI Category', 'Blood Pressure', 'Heart Rate', 'Daily Steps',\n",
              "       'Sleep Disorder'],\n",
              "      dtype='object')"
            ]
          },
          "execution_count": 5,
          "metadata": {},
          "output_type": "execute_result"
        }
      ],
      "source": [
        "# Print column names of dataset\n",
        "dataset.columns"
      ]
    },
    {
      "cell_type": "markdown",
      "metadata": {},
      "source": [
        "We can see that there are 13 columns in total, namely: Person ID, Gender, Age, Occupation, Sleep Duration, Quality of Sleep, Physical Activity Level, Stress Level, BMI Category, Blood Pressure, Heart Rate, Daily Steps, and Sleep Disorder. \n",
        "\n",
        "The data types across all columns are float, int, and object (string)."
      ]
    },
    {
      "cell_type": "markdown",
      "metadata": {},
      "source": [
        "#### Unique values per column\n",
        "\n",
        "In this part, we want to identify the unique values for each of the dataset's columns/features. This helps us ensure the consistent formatting of the values across all columms and assess the complexity of each categorical feature (number of unique values)."
      ]
    },
    {
      "cell_type": "code",
      "execution_count": 6,
      "metadata": {},
      "outputs": [
        {
          "data": {
            "text/plain": [
              "Person ID                  15000\n",
              "Gender                         2\n",
              "Age                           33\n",
              "Occupation                    11\n",
              "Sleep Duration                55\n",
              "Quality of Sleep               6\n",
              "Physical Activity Level       37\n",
              "Stress Level                   6\n",
              "BMI Category                   4\n",
              "Blood Pressure                25\n",
              "Heart Rate                    22\n",
              "Daily Steps                   80\n",
              "Sleep Disorder                 3\n",
              "dtype: int64"
            ]
          },
          "execution_count": 6,
          "metadata": {},
          "output_type": "execute_result"
        }
      ],
      "source": [
        "# Number of unique values per column\n",
        "dataset.nunique()"
      ]
    },
    {
      "cell_type": "markdown",
      "metadata": {},
      "source": [
        "The number of unique Person IDs is 15000, which makes sense because it is used to identify an individual in the dataset. We will deal with this later."
      ]
    },
    {
      "cell_type": "code",
      "execution_count": 7,
      "metadata": {},
      "outputs": [
        {
          "name": "stdout",
          "output_type": "stream",
          "text": [
            "Gender: ['Male', 'Female']\n",
            "Occupation: ['Doctor', 'Teacher', 'Software Engineer', 'Lawyer', 'Engineer', 'Accountant', 'Nurse', 'Scientist', 'Manager', 'Salesperson', 'Sales Representative']\n",
            "BMI Category: ['Normal Weight', 'Normal', 'Overweight', 'Obese']\n",
            "Blood Pressure: ['120/80', '135/90', '126/83', '125/80', '130/85', '140/95', '115/75', '122/80', '118/76', '128/85', '128/84', '119/77', '125/82', '118/75', '115/78', '121/79', '117/76', '140/90', '135/88', '129/84', '130/86', '139/91', '132/87', '131/86', '142/92']\n",
            "Sleep Disorder: ['Healthy', 'Sleep Apnea', 'Insomnia']\n"
          ]
        }
      ],
      "source": [
        "# Unique values per categorical feature\n",
        "for col in dataset.select_dtypes(include='object').columns:\n",
        "    print(f\"{col}: {list(dataset[col].unique())}\")"
      ]
    },
    {
      "cell_type": "markdown",
      "metadata": {},
      "source": [
        "From the output above, it seems that the formatting of each column/feature's values is consistent. However, we have to preprocess some of the values, such as \"Male\" and \"Female\" in the Gender category, \"Normal Weight\" in the BMI Category feature, and the systolic and diastolic blood pressure measurements in the Blood Pressure category. We will delve into this later on."
      ]
    },
    {
      "cell_type": "markdown",
      "metadata": {},
      "source": [
        "\n",
        "##### Renaming of column values\n",
        "\n",
        "As seen from the output of the previous code block, the unique values of the `BMI Category` feature are `Normal Weight`, `Normal`, `Overweight`, and `Obese`. We want to change `Normal Weight` to `Normal` since they are equivalent."
      ]
    },
    {
      "cell_type": "code",
      "execution_count": 8,
      "metadata": {},
      "outputs": [
        {
          "data": {
            "text/plain": [
              "array(['Normal', 'Overweight', 'Obese'], dtype=object)"
            ]
          },
          "execution_count": 8,
          "metadata": {},
          "output_type": "execute_result"
        }
      ],
      "source": [
        "# Rename Normal Weight to Normal\n",
        "dataset['BMI Category'] = dataset['BMI Category'].str.replace('Normal Weight', 'Normal')\n",
        "dataset['BMI Category'].unique()    # Verify that there are only three unique values  "
      ]
    },
    {
      "cell_type": "code",
      "execution_count": 9,
      "metadata": {},
      "outputs": [
        {
          "data": {
            "text/html": [
              "<div>\n",
              "<style scoped>\n",
              "    .dataframe tbody tr th:only-of-type {\n",
              "        vertical-align: middle;\n",
              "    }\n",
              "\n",
              "    .dataframe tbody tr th {\n",
              "        vertical-align: top;\n",
              "    }\n",
              "\n",
              "    .dataframe thead th {\n",
              "        text-align: right;\n",
              "    }\n",
              "</style>\n",
              "<table border=\"1\" class=\"dataframe\">\n",
              "  <thead>\n",
              "    <tr style=\"text-align: right;\">\n",
              "      <th></th>\n",
              "      <th>Person ID</th>\n",
              "      <th>Gender</th>\n",
              "      <th>Age</th>\n",
              "      <th>Occupation</th>\n",
              "      <th>Sleep Duration</th>\n",
              "      <th>Quality of Sleep</th>\n",
              "      <th>Physical Activity Level</th>\n",
              "      <th>Stress Level</th>\n",
              "      <th>BMI Category</th>\n",
              "      <th>Blood Pressure</th>\n",
              "      <th>Heart Rate</th>\n",
              "      <th>Daily Steps</th>\n",
              "      <th>Sleep Disorder</th>\n",
              "    </tr>\n",
              "  </thead>\n",
              "  <tbody>\n",
              "    <tr>\n",
              "      <th>0</th>\n",
              "      <td>1</td>\n",
              "      <td>Male</td>\n",
              "      <td>35</td>\n",
              "      <td>Doctor</td>\n",
              "      <td>6.65</td>\n",
              "      <td>7</td>\n",
              "      <td>50</td>\n",
              "      <td>7</td>\n",
              "      <td>Normal</td>\n",
              "      <td>120/80</td>\n",
              "      <td>71</td>\n",
              "      <td>7100</td>\n",
              "      <td>Healthy</td>\n",
              "    </tr>\n",
              "    <tr>\n",
              "      <th>1</th>\n",
              "      <td>2</td>\n",
              "      <td>Male</td>\n",
              "      <td>42</td>\n",
              "      <td>Teacher</td>\n",
              "      <td>6.90</td>\n",
              "      <td>8</td>\n",
              "      <td>52</td>\n",
              "      <td>4</td>\n",
              "      <td>Normal</td>\n",
              "      <td>135/90</td>\n",
              "      <td>66</td>\n",
              "      <td>7000</td>\n",
              "      <td>Healthy</td>\n",
              "    </tr>\n",
              "    <tr>\n",
              "      <th>2</th>\n",
              "      <td>3</td>\n",
              "      <td>Male</td>\n",
              "      <td>34</td>\n",
              "      <td>Software Engineer</td>\n",
              "      <td>6.95</td>\n",
              "      <td>7</td>\n",
              "      <td>66</td>\n",
              "      <td>6</td>\n",
              "      <td>Overweight</td>\n",
              "      <td>126/83</td>\n",
              "      <td>74</td>\n",
              "      <td>6100</td>\n",
              "      <td>Healthy</td>\n",
              "    </tr>\n",
              "    <tr>\n",
              "      <th>3</th>\n",
              "      <td>4</td>\n",
              "      <td>Male</td>\n",
              "      <td>32</td>\n",
              "      <td>Doctor</td>\n",
              "      <td>6.90</td>\n",
              "      <td>6</td>\n",
              "      <td>52</td>\n",
              "      <td>7</td>\n",
              "      <td>Normal</td>\n",
              "      <td>120/80</td>\n",
              "      <td>71</td>\n",
              "      <td>6500</td>\n",
              "      <td>Healthy</td>\n",
              "    </tr>\n",
              "    <tr>\n",
              "      <th>4</th>\n",
              "      <td>5</td>\n",
              "      <td>Male</td>\n",
              "      <td>37</td>\n",
              "      <td>Lawyer</td>\n",
              "      <td>6.85</td>\n",
              "      <td>7</td>\n",
              "      <td>60</td>\n",
              "      <td>6</td>\n",
              "      <td>Normal</td>\n",
              "      <td>125/80</td>\n",
              "      <td>71</td>\n",
              "      <td>6500</td>\n",
              "      <td>Healthy</td>\n",
              "    </tr>\n",
              "  </tbody>\n",
              "</table>\n",
              "</div>"
            ],
            "text/plain": [
              "   Person ID Gender  Age         Occupation  Sleep Duration  Quality of Sleep  \\\n",
              "0          1   Male   35             Doctor            6.65                 7   \n",
              "1          2   Male   42            Teacher            6.90                 8   \n",
              "2          3   Male   34  Software Engineer            6.95                 7   \n",
              "3          4   Male   32             Doctor            6.90                 6   \n",
              "4          5   Male   37             Lawyer            6.85                 7   \n",
              "\n",
              "   Physical Activity Level  Stress Level BMI Category Blood Pressure  \\\n",
              "0                       50             7       Normal         120/80   \n",
              "1                       52             4       Normal         135/90   \n",
              "2                       66             6   Overweight         126/83   \n",
              "3                       52             7       Normal         120/80   \n",
              "4                       60             6       Normal         125/80   \n",
              "\n",
              "   Heart Rate  Daily Steps Sleep Disorder  \n",
              "0          71         7100        Healthy  \n",
              "1          66         7000        Healthy  \n",
              "2          74         6100        Healthy  \n",
              "3          71         6500        Healthy  \n",
              "4          71         6500        Healthy  "
            ]
          },
          "execution_count": 9,
          "metadata": {},
          "output_type": "execute_result"
        }
      ],
      "source": [
        "dataset.head()"
      ]
    },
    {
      "cell_type": "markdown",
      "metadata": {},
      "source": [
        "We have successfully renamed all `Normal Weight` entries to `Normal`."
      ]
    },
    {
      "cell_type": "markdown",
      "metadata": {},
      "source": [
        "#### Statistical summary\n",
        "\n",
        "The `describe()` method returns a statistical summary of the numerical features in the given dataset. For each column, it returns these information.\n",
        "\n",
        "count - The number of not-empty values.\\\n",
        "mean - The average (mean) value.\\\n",
        "std - The standard deviation.\\\n",
        "min - the minimum value.\\\n",
        "25% - The 25% percentile.\\\n",
        "50% - The 50% percentile.\\\n",
        "75% - The 75% percentile.\\\n",
        "max - the maximum value.\n",
        "\n",
        "Reference: https://www.w3schools.com/python/pandas/ref_df_describe.asp"
      ]
    },
    {
      "cell_type": "code",
      "execution_count": 10,
      "metadata": {},
      "outputs": [
        {
          "data": {
            "text/html": [
              "<div>\n",
              "<style scoped>\n",
              "    .dataframe tbody tr th:only-of-type {\n",
              "        vertical-align: middle;\n",
              "    }\n",
              "\n",
              "    .dataframe tbody tr th {\n",
              "        vertical-align: top;\n",
              "    }\n",
              "\n",
              "    .dataframe thead th {\n",
              "        text-align: right;\n",
              "    }\n",
              "</style>\n",
              "<table border=\"1\" class=\"dataframe\">\n",
              "  <thead>\n",
              "    <tr style=\"text-align: right;\">\n",
              "      <th></th>\n",
              "      <th>Person ID</th>\n",
              "      <th>Age</th>\n",
              "      <th>Sleep Duration</th>\n",
              "      <th>Quality of Sleep</th>\n",
              "      <th>Physical Activity Level</th>\n",
              "      <th>Stress Level</th>\n",
              "      <th>Heart Rate</th>\n",
              "      <th>Daily Steps</th>\n",
              "    </tr>\n",
              "  </thead>\n",
              "  <tbody>\n",
              "    <tr>\n",
              "      <th>count</th>\n",
              "      <td>15000.000000</td>\n",
              "      <td>15000.000000</td>\n",
              "      <td>15000.000000</td>\n",
              "      <td>15000.000000</td>\n",
              "      <td>15000.000000</td>\n",
              "      <td>15000.000000</td>\n",
              "      <td>15000.000000</td>\n",
              "      <td>15000.000000</td>\n",
              "    </tr>\n",
              "    <tr>\n",
              "      <th>mean</th>\n",
              "      <td>7500.500000</td>\n",
              "      <td>44.130667</td>\n",
              "      <td>6.997327</td>\n",
              "      <td>7.131267</td>\n",
              "      <td>59.925000</td>\n",
              "      <td>5.654800</td>\n",
              "      <td>70.857533</td>\n",
              "      <td>6795.080000</td>\n",
              "    </tr>\n",
              "    <tr>\n",
              "      <th>std</th>\n",
              "      <td>4330.271354</td>\n",
              "      <td>6.840091</td>\n",
              "      <td>0.615187</td>\n",
              "      <td>1.053111</td>\n",
              "      <td>16.814374</td>\n",
              "      <td>1.393568</td>\n",
              "      <td>3.614836</td>\n",
              "      <td>1329.706484</td>\n",
              "    </tr>\n",
              "    <tr>\n",
              "      <th>min</th>\n",
              "      <td>1.000000</td>\n",
              "      <td>27.000000</td>\n",
              "      <td>5.800000</td>\n",
              "      <td>4.000000</td>\n",
              "      <td>30.000000</td>\n",
              "      <td>3.000000</td>\n",
              "      <td>65.000000</td>\n",
              "      <td>3000.000000</td>\n",
              "    </tr>\n",
              "    <tr>\n",
              "      <th>25%</th>\n",
              "      <td>3750.750000</td>\n",
              "      <td>40.000000</td>\n",
              "      <td>6.500000</td>\n",
              "      <td>6.000000</td>\n",
              "      <td>45.000000</td>\n",
              "      <td>4.000000</td>\n",
              "      <td>68.000000</td>\n",
              "      <td>6000.000000</td>\n",
              "    </tr>\n",
              "    <tr>\n",
              "      <th>50%</th>\n",
              "      <td>7500.500000</td>\n",
              "      <td>44.000000</td>\n",
              "      <td>7.000000</td>\n",
              "      <td>7.000000</td>\n",
              "      <td>60.000000</td>\n",
              "      <td>6.000000</td>\n",
              "      <td>70.000000</td>\n",
              "      <td>6500.000000</td>\n",
              "    </tr>\n",
              "    <tr>\n",
              "      <th>75%</th>\n",
              "      <td>11250.250000</td>\n",
              "      <td>48.000000</td>\n",
              "      <td>7.450000</td>\n",
              "      <td>8.000000</td>\n",
              "      <td>75.000000</td>\n",
              "      <td>6.000000</td>\n",
              "      <td>72.000000</td>\n",
              "      <td>7600.000000</td>\n",
              "    </tr>\n",
              "    <tr>\n",
              "      <th>max</th>\n",
              "      <td>15000.000000</td>\n",
              "      <td>59.000000</td>\n",
              "      <td>8.500000</td>\n",
              "      <td>9.000000</td>\n",
              "      <td>90.000000</td>\n",
              "      <td>8.000000</td>\n",
              "      <td>86.000000</td>\n",
              "      <td>10000.000000</td>\n",
              "    </tr>\n",
              "  </tbody>\n",
              "</table>\n",
              "</div>"
            ],
            "text/plain": [
              "          Person ID           Age  Sleep Duration  Quality of Sleep  \\\n",
              "count  15000.000000  15000.000000    15000.000000      15000.000000   \n",
              "mean    7500.500000     44.130667        6.997327          7.131267   \n",
              "std     4330.271354      6.840091        0.615187          1.053111   \n",
              "min        1.000000     27.000000        5.800000          4.000000   \n",
              "25%     3750.750000     40.000000        6.500000          6.000000   \n",
              "50%     7500.500000     44.000000        7.000000          7.000000   \n",
              "75%    11250.250000     48.000000        7.450000          8.000000   \n",
              "max    15000.000000     59.000000        8.500000          9.000000   \n",
              "\n",
              "       Physical Activity Level  Stress Level    Heart Rate   Daily Steps  \n",
              "count             15000.000000  15000.000000  15000.000000  15000.000000  \n",
              "mean                 59.925000      5.654800     70.857533   6795.080000  \n",
              "std                  16.814374      1.393568      3.614836   1329.706484  \n",
              "min                  30.000000      3.000000     65.000000   3000.000000  \n",
              "25%                  45.000000      4.000000     68.000000   6000.000000  \n",
              "50%                  60.000000      6.000000     70.000000   6500.000000  \n",
              "75%                  75.000000      6.000000     72.000000   7600.000000  \n",
              "max                  90.000000      8.000000     86.000000  10000.000000  "
            ]
          },
          "execution_count": 10,
          "metadata": {},
          "output_type": "execute_result"
        }
      ],
      "source": [
        "dataset.describe()"
      ]
    },
    {
      "cell_type": "markdown",
      "metadata": {},
      "source": [
        "We can see from the table above that all numerical features have the same count (15000).\n",
        "\n",
        "The average age is 44.13 years. The average sleep duration is 7 hours. The average quality of sleep (1-10, 1 being the lowest and 10 being the highest) is 7.13. The average amount of daily physical activity is 59.93 minutes, or nearly an hour. The average stress level (1-10, 1 being the lowest and 10 being the highest) is 5.65. The average heart rate is 70.86 beats per minute. The average number of daily steps is 6795."
      ]
    },
    {
      "cell_type": "markdown",
      "metadata": {},
      "source": [
        "#### Checking for the presence of null values\n",
        "\n",
        "An important part of data exploration is checking for the presence of null values in the dataset. It is vital to handle null values because they can produce inaccurate or misleading results. Some machine learning algorithms, especially MLP, also cannot handle null values. Ultimately, it helps us in deciding the best way to handle the null values through various methods such as imputation and removal of rows."
      ]
    },
    {
      "cell_type": "code",
      "execution_count": 11,
      "metadata": {},
      "outputs": [
        {
          "data": {
            "text/plain": [
              "Person ID                  0\n",
              "Gender                     0\n",
              "Age                        0\n",
              "Occupation                 0\n",
              "Sleep Duration             0\n",
              "Quality of Sleep           0\n",
              "Physical Activity Level    0\n",
              "Stress Level               0\n",
              "BMI Category               0\n",
              "Blood Pressure             0\n",
              "Heart Rate                 0\n",
              "Daily Steps                0\n",
              "Sleep Disorder             0\n",
              "dtype: int64"
            ]
          },
          "execution_count": 11,
          "metadata": {},
          "output_type": "execute_result"
        }
      ],
      "source": [
        "# Checking for null values\n",
        "dataset.isnull().sum()"
      ]
    },
    {
      "cell_type": "markdown",
      "metadata": {},
      "source": [
        "Fortunately, there are no null values across **ALL** rows of the dataset."
      ]
    },
    {
      "cell_type": "markdown",
      "metadata": {},
      "source": [
        "### Data visualization\n",
        "\n",
        "Data visualization is another important part of every machine learning project. In this part, we will be using graphs to better understand the patterns and trends in the data. These patterns and trends can easily be understood through visualization especially if they are hard to discern from the raw data. It condenses quite complex information into an easily digestible format. We can also discover what features correlate strongly with the target variable (stress level). Ultimately, it is a powerful tool for effectively communicating insights on data to a wider audience."
      ]
    },
    {
      "cell_type": "markdown",
      "metadata": {},
      "source": [
        "#### Distribution of stress level\n",
        "\n",
        "We want to visualize the distribution of the stress level feature, which is our target variable, in our dataset. The code block below is from [Tanaya Tipre's project](https://www.kaggle.com/code/tanayatipre/stress-level-detection#5.-Data-Visualization), with the labels modified for clarity."
      ]
    },
    {
      "cell_type": "code",
      "execution_count": 12,
      "metadata": {},
      "outputs": [
        {
          "data": {
            "image/png": "[encoded data removed]",
            "text/plain": [
              "<Figure size 640x480 with 1 Axes>"
            ]
          },
          "metadata": {},
          "output_type": "display_data"
        }
      ],
      "source": [
        "# Distribution of stress level\n",
        "sns.countplot(x='Stress Level', data=dataset)\n",
        "\n",
        "plt.xlabel('Stress Level')\n",
        "\n",
        "plt.ylabel('Count')\n",
        "\n",
        "plt.title('Distribution of Stress Level')\n",
        "\n",
        "# Displaying the plot\n",
        "plt.show()"
      ]
    },
    {
      "cell_type": "markdown",
      "metadata": {},
      "source": [
        "From the figure above, we can observe that the stress level is not distributed evenly, and a stress level of 6 is found across many records in the dataset."
      ]
    },
    {
      "cell_type": "markdown",
      "metadata": {},
      "source": [
        "#### Distribution of numerical features\n",
        "\n",
        "We want to visualize the distribution of the numerical features of the dataset. We might be able to identify outliers and potential patterns across these features."
      ]
    },
    {
      "cell_type": "code",
      "execution_count": 13,
      "metadata": {},
      "outputs": [
        {
          "data": {
            "image/png": "[encoded data removed]",
            "text/plain": [
              "<Figure size 1000x1000 with 6 Axes>"
            ]
          },
          "metadata": {},
          "output_type": "display_data"
        }
      ],
      "source": [
        "# List of features to plot histograms for\n",
        "features = [col for col in dataset.columns if col not in ['Stress Level', 'Person ID']]\n",
        "\n",
        "# Plot histograms for each feature\n",
        "dataset.hist(column=features, bins=10, figsize=(10, 10))\n",
        "plt.suptitle(\"Histograms of Features\", fontsize=20)\n",
        "plt.show()"
      ]
    },
    {
      "cell_type": "markdown",
      "metadata": {},
      "source": [
        "#### Distribution of categorical features\n",
        "\n",
        "Visualizing the distribution of stress levels by Gender, BMI Category, and Sleep Disorder allows for a visual examination of trends and relationships in the data.\n"
      ]
    },
    {
      "cell_type": "code",
      "execution_count": 14,
      "metadata": {},
      "outputs": [
        {
          "data": {
            "image/png": "[encoded data removed]",
            "text/plain": [
              "<Figure size 640x480 with 1 Axes>"
            ]
          },
          "metadata": {},
          "output_type": "display_data"
        }
      ],
      "source": [
        "sns.boxplot(x='Gender', y='Stress Level', data=dataset)\n",
        "plt.title('Distribution of Stress Levels by Gender')\n",
        "plt.show()"
      ]
    },
    {
      "cell_type": "code",
      "execution_count": 15,
      "metadata": {},
      "outputs": [
        {
          "data": {
            "image/png": "[encoded data removed]",
            "text/plain": [
              "<Figure size 640x480 with 1 Axes>"
            ]
          },
          "metadata": {},
          "output_type": "display_data"
        }
      ],
      "source": [
        "sns.boxplot(x='BMI Category', y='Stress Level', data=dataset)\n",
        "plt.title('Distribution of Stress Levels by BMI Category')\n",
        "plt.show()"
      ]
    },
    {
      "cell_type": "code",
      "execution_count": 16,
      "metadata": {},
      "outputs": [
        {
          "data": {
            "image/png": "[encoded data removed]",
            "text/plain": [
              "<Figure size 640x480 with 1 Axes>"
            ]
          },
          "metadata": {},
          "output_type": "display_data"
        }
      ],
      "source": [
        "sns.boxplot(x='Sleep Disorder', y='Stress Level', data=dataset)\n",
        "plt.title('Distribution of Stress Levels by Sleep Disorder')\n",
        "plt.show()"
      ]
    },
    {
      "cell_type": "markdown",
      "metadata": {},
      "source": [
        "#### Solving and visualizing the correlation matrix\n",
        "\n",
        "We want to identify relationships among the variables and select features that are highly correlated. This helps in avoiding redundancy and building more accurate models.\n"
      ]
    },
    {
      "cell_type": "code",
      "execution_count": 17,
      "metadata": {},
      "outputs": [
        {
          "name": "stdout",
          "output_type": "stream",
          "text": [
            "                              Age  Sleep Duration  Quality of Sleep  \\\n",
            "Age                      1.000000        0.242359          0.382186   \n",
            "Sleep Duration           0.242359        1.000000          0.871070   \n",
            "Quality of Sleep         0.382186        0.871070          1.000000   \n",
            "Physical Activity Level  0.405467        0.258421          0.381601   \n",
            "Stress Level            -0.236076       -0.819078         -0.785485   \n",
            "Heart Rate              -0.031232       -0.411150         -0.451876   \n",
            "Daily Steps              0.258497       -0.003157          0.188875   \n",
            "\n",
            "                         Physical Activity Level  Stress Level  Heart Rate  \\\n",
            "Age                                     0.405467     -0.236076   -0.031232   \n",
            "Sleep Duration                          0.258421     -0.819078   -0.411150   \n",
            "Quality of Sleep                        0.381601     -0.785485   -0.451876   \n",
            "Physical Activity Level                 1.000000     -0.040732    0.247722   \n",
            "Stress Level                           -0.040732      1.000000    0.604005   \n",
            "Heart Rate                              0.247722      0.604005    1.000000   \n",
            "Daily Steps                             0.802275      0.183539    0.026516   \n",
            "\n",
            "                         Daily Steps  \n",
            "Age                         0.258497  \n",
            "Sleep Duration             -0.003157  \n",
            "Quality of Sleep            0.188875  \n",
            "Physical Activity Level     0.802275  \n",
            "Stress Level                0.183539  \n",
            "Heart Rate                  0.026516  \n",
            "Daily Steps                 1.000000  \n"
          ]
        }
      ],
      "source": [
        "numerical_features = dataset.select_dtypes(include=['number'])\n",
        "numerical_features.drop('Person ID', axis=1, inplace=True)\n",
        "\n",
        "# Calculate the correlation matrix\n",
        "correlation_matrix = numerical_features.corr()\n",
        "\n",
        "# Print the correlation matrix\n",
        "print(correlation_matrix)"
      ]
    },
    {
      "cell_type": "code",
      "execution_count": 18,
      "metadata": {},
      "outputs": [
        {
          "data": {
            "text/plain": [
              "<function matplotlib.pyplot.show(close=None, block=None)>"
            ]
          },
          "execution_count": 18,
          "metadata": {},
          "output_type": "execute_result"
        },
        {
          "data": {
            "image/png": "[encoded data removed]",
            "text/plain": [
              "<Figure size 1000x1000 with 2 Axes>"
            ]
          },
          "metadata": {},
          "output_type": "display_data"
        }
      ],
      "source": [
        "plt.figure(figsize = (10, 10))\n",
        "sns.heatmap(correlation_matrix, cmap = 'crest', annot = True)\n",
        "plt.show"
      ]
    },
    {
      "cell_type": "markdown",
      "metadata": {},
      "source": [
        "##### Positively correlated columns\n",
        "\"Sleep Duration\" and \"Quality of Sleep\"\\\n",
        "\"Physical Activity Level\" and \"Daily Steps\"\\\n",
        "\"Stress Level\" and Heart Rate\""
      ]
    },
    {
      "cell_type": "markdown",
      "metadata": {},
      "source": [
        "##### Negatively correlated columns:\n",
        "\"Stress Level\" and \"Sleep Duration\"\\\n",
        "\"Stress Level\" and \"Quality of Sleep\""
      ]
    },
    {
      "cell_type": "markdown",
      "metadata": {},
      "source": [
        "##### No correlation with target column (stress level)\n",
        "\"Physical Activity Level\""
      ]
    },
    {
      "cell_type": "markdown",
      "metadata": {},
      "source": [
        "## 4. Data preprocessing\n",
        "\n",
        "Now that we have uncovered the possible trends and patterns in the dataset, we will now perform preprocessing. This involves renaming of columns or column values (if applicable), dropping of unused features, normalization of numerical features, label encoding (converting categorical data to numerical data), and dealing with null values."
      ]
    },
    {
      "cell_type": "markdown",
      "metadata": {},
      "source": [
        "### Importing libraries for preprocessing"
      ]
    },
    {
      "cell_type": "code",
      "execution_count": 19,
      "metadata": {},
      "outputs": [],
      "source": [
        "# Importing the necessary libraries to conduct preprocessing\n",
        "from sklearn.preprocessing import LabelEncoder, StandardScaler"
      ]
    },
    {
      "cell_type": "markdown",
      "metadata": {},
      "source": [
        "There are categorical features in the dataset such as `Gender`, `Occupation`, `BMI Category`, `Sleep Disorder`, and also the target variable `Stress Level`. Label encoding is utilized here to convert categorical values into numerical values by assigning a unique numerical label for each categorical value. This is done by importing `LabelEncoder`.\n",
        "\n",
        "On the other hand, standardizing numerical features such as `Age`, `Sleep Duration`, `Physical Activity Level`, `Blood Pressure`, `Heart Rate`, and `Daily Steps` is essential. This process ensures that variables with different units and scales contribute equally to the model, preventing biases and allowing machine learning algorithms to effectively learn patterns, leading to improved model performance.\n",
        "\n",
        "Reference: https://www.kaggle.com/code/alnourabdalrahman9/sleeping-disorders-detection-outliers-removal#Splitting-the-Data:"
      ]
    },
    {
      "cell_type": "markdown",
      "metadata": {},
      "source": [
        "### Splitting blood pressure\n",
        "\n",
        "The `Blood Pressure` feature in our dataset is currently in the format of systolic pressure/diastolic pressure. We want to split them up such that there are separate columns for the systolic pressure and diastolic pressure to avoid inconsistencies when training the MLP.\n",
        "\n",
        "Systolic pressure is the maximum blood pressure during contraction of the ventricles; diastolic pressure is the minimum pressure recorded just prior to the next contraction.\n",
        "\n",
        "Reference: https://www.ncbi.nlm.nih.gov/books/NBK268/"
      ]
    },
    {
      "cell_type": "code",
      "execution_count": 20,
      "metadata": {},
      "outputs": [
        {
          "name": "stdout",
          "output_type": "stream",
          "text": [
            "Systolic Blood Pressure     int64\n",
            "Diastolic Blood Pressure    int64\n",
            "dtype: object\n"
          ]
        },
        {
          "data": {
            "text/html": [
              "<div>\n",
              "<style scoped>\n",
              "    .dataframe tbody tr th:only-of-type {\n",
              "        vertical-align: middle;\n",
              "    }\n",
              "\n",
              "    .dataframe tbody tr th {\n",
              "        vertical-align: top;\n",
              "    }\n",
              "\n",
              "    .dataframe thead th {\n",
              "        text-align: right;\n",
              "    }\n",
              "</style>\n",
              "<table border=\"1\" class=\"dataframe\">\n",
              "  <thead>\n",
              "    <tr style=\"text-align: right;\">\n",
              "      <th></th>\n",
              "      <th>Person ID</th>\n",
              "      <th>Gender</th>\n",
              "      <th>Age</th>\n",
              "      <th>Occupation</th>\n",
              "      <th>Sleep Duration</th>\n",
              "      <th>Quality of Sleep</th>\n",
              "      <th>Physical Activity Level</th>\n",
              "      <th>Stress Level</th>\n",
              "      <th>BMI Category</th>\n",
              "      <th>Blood Pressure</th>\n",
              "      <th>Heart Rate</th>\n",
              "      <th>Daily Steps</th>\n",
              "      <th>Sleep Disorder</th>\n",
              "      <th>Systolic Blood Pressure</th>\n",
              "      <th>Diastolic Blood Pressure</th>\n",
              "    </tr>\n",
              "  </thead>\n",
              "  <tbody>\n",
              "    <tr>\n",
              "      <th>0</th>\n",
              "      <td>1</td>\n",
              "      <td>Male</td>\n",
              "      <td>35</td>\n",
              "      <td>Doctor</td>\n",
              "      <td>6.65</td>\n",
              "      <td>7</td>\n",
              "      <td>50</td>\n",
              "      <td>7</td>\n",
              "      <td>Normal</td>\n",
              "      <td>120/80</td>\n",
              "      <td>71</td>\n",
              "      <td>7100</td>\n",
              "      <td>Healthy</td>\n",
              "      <td>120</td>\n",
              "      <td>80</td>\n",
              "    </tr>\n",
              "    <tr>\n",
              "      <th>1</th>\n",
              "      <td>2</td>\n",
              "      <td>Male</td>\n",
              "      <td>42</td>\n",
              "      <td>Teacher</td>\n",
              "      <td>6.90</td>\n",
              "      <td>8</td>\n",
              "      <td>52</td>\n",
              "      <td>4</td>\n",
              "      <td>Normal</td>\n",
              "      <td>135/90</td>\n",
              "      <td>66</td>\n",
              "      <td>7000</td>\n",
              "      <td>Healthy</td>\n",
              "      <td>135</td>\n",
              "      <td>90</td>\n",
              "    </tr>\n",
              "    <tr>\n",
              "      <th>2</th>\n",
              "      <td>3</td>\n",
              "      <td>Male</td>\n",
              "      <td>34</td>\n",
              "      <td>Software Engineer</td>\n",
              "      <td>6.95</td>\n",
              "      <td>7</td>\n",
              "      <td>66</td>\n",
              "      <td>6</td>\n",
              "      <td>Overweight</td>\n",
              "      <td>126/83</td>\n",
              "      <td>74</td>\n",
              "      <td>6100</td>\n",
              "      <td>Healthy</td>\n",
              "      <td>126</td>\n",
              "      <td>83</td>\n",
              "    </tr>\n",
              "    <tr>\n",
              "      <th>3</th>\n",
              "      <td>4</td>\n",
              "      <td>Male</td>\n",
              "      <td>32</td>\n",
              "      <td>Doctor</td>\n",
              "      <td>6.90</td>\n",
              "      <td>6</td>\n",
              "      <td>52</td>\n",
              "      <td>7</td>\n",
              "      <td>Normal</td>\n",
              "      <td>120/80</td>\n",
              "      <td>71</td>\n",
              "      <td>6500</td>\n",
              "      <td>Healthy</td>\n",
              "      <td>120</td>\n",
              "      <td>80</td>\n",
              "    </tr>\n",
              "    <tr>\n",
              "      <th>4</th>\n",
              "      <td>5</td>\n",
              "      <td>Male</td>\n",
              "      <td>37</td>\n",
              "      <td>Lawyer</td>\n",
              "      <td>6.85</td>\n",
              "      <td>7</td>\n",
              "      <td>60</td>\n",
              "      <td>6</td>\n",
              "      <td>Normal</td>\n",
              "      <td>125/80</td>\n",
              "      <td>71</td>\n",
              "      <td>6500</td>\n",
              "      <td>Healthy</td>\n",
              "      <td>125</td>\n",
              "      <td>80</td>\n",
              "    </tr>\n",
              "  </tbody>\n",
              "</table>\n",
              "</div>"
            ],
            "text/plain": [
              "   Person ID Gender  Age         Occupation  Sleep Duration  Quality of Sleep  \\\n",
              "0          1   Male   35             Doctor            6.65                 7   \n",
              "1          2   Male   42            Teacher            6.90                 8   \n",
              "2          3   Male   34  Software Engineer            6.95                 7   \n",
              "3          4   Male   32             Doctor            6.90                 6   \n",
              "4          5   Male   37             Lawyer            6.85                 7   \n",
              "\n",
              "   Physical Activity Level  Stress Level BMI Category Blood Pressure  \\\n",
              "0                       50             7       Normal         120/80   \n",
              "1                       52             4       Normal         135/90   \n",
              "2                       66             6   Overweight         126/83   \n",
              "3                       52             7       Normal         120/80   \n",
              "4                       60             6       Normal         125/80   \n",
              "\n",
              "   Heart Rate  Daily Steps Sleep Disorder  Systolic Blood Pressure  \\\n",
              "0          71         7100        Healthy                      120   \n",
              "1          66         7000        Healthy                      135   \n",
              "2          74         6100        Healthy                      126   \n",
              "3          71         6500        Healthy                      120   \n",
              "4          71         6500        Healthy                      125   \n",
              "\n",
              "   Diastolic Blood Pressure  \n",
              "0                        80  \n",
              "1                        90  \n",
              "2                        83  \n",
              "3                        80  \n",
              "4                        80  "
            ]
          },
          "execution_count": 20,
          "metadata": {},
          "output_type": "execute_result"
        }
      ],
      "source": [
        "# Split the blood pressure feature into systolic blood pressure and diastolic blood pressure\n",
        "dataset[['Systolic Blood Pressure', 'Diastolic Blood Pressure']] = dataset['Blood Pressure'].str.split('/', n=1, expand=True)\n",
        "\n",
        "# Convert the data type of the newly created columns to numeric\n",
        "dataset[['Systolic Blood Pressure', 'Diastolic Blood Pressure']] = dataset[['Systolic Blood Pressure', 'Diastolic Blood Pressure']].apply(pd.to_numeric)\n",
        "\n",
        "# Verify that the data type conversion is successful\n",
        "print(dataset[['Systolic Blood Pressure', 'Diastolic Blood Pressure']].dtypes) \n",
        "dataset.head() # Verify that the splitting and dropping is successful"
      ]
    },
    {
      "cell_type": "markdown",
      "metadata": {},
      "source": [
        "We can see from the output of the code block above that the splitting of blood pressure data into systolic and diastolic blood pressures was successful. We also dropped the blood pressure column, which can be observed in the table."
      ]
    },
    {
      "cell_type": "markdown",
      "metadata": {},
      "source": [
        "### Setting stress level as the last column\n",
        "\n",
        "To streamline the process of getting the training and testing data later, we will set the `Stress Level` feature as the last column of `dataset`. "
      ]
    },
    {
      "cell_type": "code",
      "execution_count": 21,
      "metadata": {},
      "outputs": [
        {
          "data": {
            "text/plain": [
              "Index(['Person ID', 'Gender', 'Age', 'Occupation', 'Sleep Duration',\n",
              "       'Quality of Sleep', 'Physical Activity Level', 'BMI Category',\n",
              "       'Blood Pressure', 'Heart Rate', 'Daily Steps', 'Sleep Disorder',\n",
              "       'Systolic Blood Pressure', 'Diastolic Blood Pressure', 'Stress Level'],\n",
              "      dtype='object')"
            ]
          },
          "execution_count": 21,
          "metadata": {},
          "output_type": "execute_result"
        }
      ],
      "source": [
        "# Move the target column (stress level) to the last column\n",
        "dataset['Stress Level'] = dataset.pop('Stress Level')\n",
        "dataset.columns"
      ]
    },
    {
      "cell_type": "markdown",
      "metadata": {},
      "source": [
        "### Dropping of unnecessary features\n",
        "\n",
        "Some of the features in the dataset were deemed unnecessary and will be dropped/removed. Recall that we want to predict the stress level of an individual given their sleep health and lifestyle habits."
      ]
    },
    {
      "cell_type": "code",
      "execution_count": 22,
      "metadata": {},
      "outputs": [
        {
          "data": {
            "text/html": [
              "<div>\n",
              "<style scoped>\n",
              "    .dataframe tbody tr th:only-of-type {\n",
              "        vertical-align: middle;\n",
              "    }\n",
              "\n",
              "    .dataframe tbody tr th {\n",
              "        vertical-align: top;\n",
              "    }\n",
              "\n",
              "    .dataframe thead th {\n",
              "        text-align: right;\n",
              "    }\n",
              "</style>\n",
              "<table border=\"1\" class=\"dataframe\">\n",
              "  <thead>\n",
              "    <tr style=\"text-align: right;\">\n",
              "      <th></th>\n",
              "      <th>Gender</th>\n",
              "      <th>Age</th>\n",
              "      <th>Sleep Duration</th>\n",
              "      <th>Quality of Sleep</th>\n",
              "      <th>Physical Activity Level</th>\n",
              "      <th>BMI Category</th>\n",
              "      <th>Heart Rate</th>\n",
              "      <th>Daily Steps</th>\n",
              "      <th>Sleep Disorder</th>\n",
              "      <th>Systolic Blood Pressure</th>\n",
              "      <th>Diastolic Blood Pressure</th>\n",
              "      <th>Stress Level</th>\n",
              "    </tr>\n",
              "  </thead>\n",
              "  <tbody>\n",
              "    <tr>\n",
              "      <th>0</th>\n",
              "      <td>Male</td>\n",
              "      <td>35</td>\n",
              "      <td>6.65</td>\n",
              "      <td>7</td>\n",
              "      <td>50</td>\n",
              "      <td>Normal</td>\n",
              "      <td>71</td>\n",
              "      <td>7100</td>\n",
              "      <td>Healthy</td>\n",
              "      <td>120</td>\n",
              "      <td>80</td>\n",
              "      <td>7</td>\n",
              "    </tr>\n",
              "    <tr>\n",
              "      <th>1</th>\n",
              "      <td>Male</td>\n",
              "      <td>42</td>\n",
              "      <td>6.90</td>\n",
              "      <td>8</td>\n",
              "      <td>52</td>\n",
              "      <td>Normal</td>\n",
              "      <td>66</td>\n",
              "      <td>7000</td>\n",
              "      <td>Healthy</td>\n",
              "      <td>135</td>\n",
              "      <td>90</td>\n",
              "      <td>4</td>\n",
              "    </tr>\n",
              "    <tr>\n",
              "      <th>2</th>\n",
              "      <td>Male</td>\n",
              "      <td>34</td>\n",
              "      <td>6.95</td>\n",
              "      <td>7</td>\n",
              "      <td>66</td>\n",
              "      <td>Overweight</td>\n",
              "      <td>74</td>\n",
              "      <td>6100</td>\n",
              "      <td>Healthy</td>\n",
              "      <td>126</td>\n",
              "      <td>83</td>\n",
              "      <td>6</td>\n",
              "    </tr>\n",
              "    <tr>\n",
              "      <th>3</th>\n",
              "      <td>Male</td>\n",
              "      <td>32</td>\n",
              "      <td>6.90</td>\n",
              "      <td>6</td>\n",
              "      <td>52</td>\n",
              "      <td>Normal</td>\n",
              "      <td>71</td>\n",
              "      <td>6500</td>\n",
              "      <td>Healthy</td>\n",
              "      <td>120</td>\n",
              "      <td>80</td>\n",
              "      <td>7</td>\n",
              "    </tr>\n",
              "    <tr>\n",
              "      <th>4</th>\n",
              "      <td>Male</td>\n",
              "      <td>37</td>\n",
              "      <td>6.85</td>\n",
              "      <td>7</td>\n",
              "      <td>60</td>\n",
              "      <td>Normal</td>\n",
              "      <td>71</td>\n",
              "      <td>6500</td>\n",
              "      <td>Healthy</td>\n",
              "      <td>125</td>\n",
              "      <td>80</td>\n",
              "      <td>6</td>\n",
              "    </tr>\n",
              "  </tbody>\n",
              "</table>\n",
              "</div>"
            ],
            "text/plain": [
              "  Gender  Age  Sleep Duration  Quality of Sleep  Physical Activity Level  \\\n",
              "0   Male   35            6.65                 7                       50   \n",
              "1   Male   42            6.90                 8                       52   \n",
              "2   Male   34            6.95                 7                       66   \n",
              "3   Male   32            6.90                 6                       52   \n",
              "4   Male   37            6.85                 7                       60   \n",
              "\n",
              "  BMI Category  Heart Rate  Daily Steps Sleep Disorder  \\\n",
              "0       Normal          71         7100        Healthy   \n",
              "1       Normal          66         7000        Healthy   \n",
              "2   Overweight          74         6100        Healthy   \n",
              "3       Normal          71         6500        Healthy   \n",
              "4       Normal          71         6500        Healthy   \n",
              "\n",
              "   Systolic Blood Pressure  Diastolic Blood Pressure  Stress Level  \n",
              "0                      120                        80             7  \n",
              "1                      135                        90             4  \n",
              "2                      126                        83             6  \n",
              "3                      120                        80             7  \n",
              "4                      125                        80             6  "
            ]
          },
          "execution_count": 22,
          "metadata": {},
          "output_type": "execute_result"
        }
      ],
      "source": [
        "# Remove some features because they are unnecessary for analysis\n",
        "features_to_remove = ['Person ID', 'Occupation', 'Blood Pressure']\n",
        "\n",
        "dataset.drop(features_to_remove, axis=1, inplace=True)\n",
        "dataset.head()  # Verify that the features in the features_to_remove list have been dropped from the dataset"
      ]
    },
    {
      "cell_type": "markdown",
      "metadata": {},
      "source": [
        "### Label encoding\n",
        "\n",
        "Now we will convert the categorical features (`Gender`, `BMI Category`, `Sleep Disorder`) to numerical data through the use of the `LabelEncoder` function."
      ]
    },
    {
      "cell_type": "code",
      "execution_count": 23,
      "metadata": {},
      "outputs": [
        {
          "data": {
            "text/html": [
              "<div>\n",
              "<style scoped>\n",
              "    .dataframe tbody tr th:only-of-type {\n",
              "        vertical-align: middle;\n",
              "    }\n",
              "\n",
              "    .dataframe tbody tr th {\n",
              "        vertical-align: top;\n",
              "    }\n",
              "\n",
              "    .dataframe thead th {\n",
              "        text-align: right;\n",
              "    }\n",
              "</style>\n",
              "<table border=\"1\" class=\"dataframe\">\n",
              "  <thead>\n",
              "    <tr style=\"text-align: right;\">\n",
              "      <th></th>\n",
              "      <th>Gender</th>\n",
              "      <th>Age</th>\n",
              "      <th>Sleep Duration</th>\n",
              "      <th>Quality of Sleep</th>\n",
              "      <th>Physical Activity Level</th>\n",
              "      <th>BMI Category</th>\n",
              "      <th>Heart Rate</th>\n",
              "      <th>Daily Steps</th>\n",
              "      <th>Sleep Disorder</th>\n",
              "      <th>Systolic Blood Pressure</th>\n",
              "      <th>Diastolic Blood Pressure</th>\n",
              "      <th>Stress Level</th>\n",
              "    </tr>\n",
              "  </thead>\n",
              "  <tbody>\n",
              "    <tr>\n",
              "      <th>0</th>\n",
              "      <td>1</td>\n",
              "      <td>35</td>\n",
              "      <td>6.65</td>\n",
              "      <td>7</td>\n",
              "      <td>50</td>\n",
              "      <td>0</td>\n",
              "      <td>71</td>\n",
              "      <td>7100</td>\n",
              "      <td>0</td>\n",
              "      <td>120</td>\n",
              "      <td>80</td>\n",
              "      <td>7</td>\n",
              "    </tr>\n",
              "    <tr>\n",
              "      <th>1</th>\n",
              "      <td>1</td>\n",
              "      <td>42</td>\n",
              "      <td>6.90</td>\n",
              "      <td>8</td>\n",
              "      <td>52</td>\n",
              "      <td>0</td>\n",
              "      <td>66</td>\n",
              "      <td>7000</td>\n",
              "      <td>0</td>\n",
              "      <td>135</td>\n",
              "      <td>90</td>\n",
              "      <td>4</td>\n",
              "    </tr>\n",
              "    <tr>\n",
              "      <th>2</th>\n",
              "      <td>1</td>\n",
              "      <td>34</td>\n",
              "      <td>6.95</td>\n",
              "      <td>7</td>\n",
              "      <td>66</td>\n",
              "      <td>2</td>\n",
              "      <td>74</td>\n",
              "      <td>6100</td>\n",
              "      <td>0</td>\n",
              "      <td>126</td>\n",
              "      <td>83</td>\n",
              "      <td>6</td>\n",
              "    </tr>\n",
              "    <tr>\n",
              "      <th>3</th>\n",
              "      <td>1</td>\n",
              "      <td>32</td>\n",
              "      <td>6.90</td>\n",
              "      <td>6</td>\n",
              "      <td>52</td>\n",
              "      <td>0</td>\n",
              "      <td>71</td>\n",
              "      <td>6500</td>\n",
              "      <td>0</td>\n",
              "      <td>120</td>\n",
              "      <td>80</td>\n",
              "      <td>7</td>\n",
              "    </tr>\n",
              "    <tr>\n",
              "      <th>4</th>\n",
              "      <td>1</td>\n",
              "      <td>37</td>\n",
              "      <td>6.85</td>\n",
              "      <td>7</td>\n",
              "      <td>60</td>\n",
              "      <td>0</td>\n",
              "      <td>71</td>\n",
              "      <td>6500</td>\n",
              "      <td>0</td>\n",
              "      <td>125</td>\n",
              "      <td>80</td>\n",
              "      <td>6</td>\n",
              "    </tr>\n",
              "  </tbody>\n",
              "</table>\n",
              "</div>"
            ],
            "text/plain": [
              "   Gender  Age  Sleep Duration  Quality of Sleep  Physical Activity Level  \\\n",
              "0       1   35            6.65                 7                       50   \n",
              "1       1   42            6.90                 8                       52   \n",
              "2       1   34            6.95                 7                       66   \n",
              "3       1   32            6.90                 6                       52   \n",
              "4       1   37            6.85                 7                       60   \n",
              "\n",
              "   BMI Category  Heart Rate  Daily Steps  Sleep Disorder  \\\n",
              "0             0          71         7100               0   \n",
              "1             0          66         7000               0   \n",
              "2             2          74         6100               0   \n",
              "3             0          71         6500               0   \n",
              "4             0          71         6500               0   \n",
              "\n",
              "   Systolic Blood Pressure  Diastolic Blood Pressure  Stress Level  \n",
              "0                      120                        80             7  \n",
              "1                      135                        90             4  \n",
              "2                      126                        83             6  \n",
              "3                      120                        80             7  \n",
              "4                      125                        80             6  "
            ]
          },
          "execution_count": 23,
          "metadata": {},
          "output_type": "execute_result"
        }
      ],
      "source": [
        "label_encoder = LabelEncoder()  # Instantiate the label encoder\n",
        "\n",
        "categorical_features = dataset.select_dtypes(include=['object']).columns.tolist()\n",
        "for cat in categorical_features:\n",
        "    dataset[cat] = label_encoder.fit_transform(dataset[cat])\n",
        "\n",
        "dataset.head()  # Verify that the categorical features have been encoded"
      ]
    },
    {
      "cell_type": "markdown",
      "metadata": {},
      "source": [
        "## 5. Importing methods needed for training, modelling, and metrics"
      ]
    },
    {
      "cell_type": "code",
      "execution_count": 24,
      "metadata": {},
      "outputs": [],
      "source": [
        "# For generating the training and testing sets (80% training, 20% testing)\n",
        "from sklearn.model_selection import train_test_split\n",
        "\n",
        "# For evaluating the model's performance\n",
        "from sklearn.metrics import confusion_matrix, classification_report, accuracy_score\n",
        "\n",
        "# For the main model (Multilayer Perceptron)\n",
        "from sklearn.neural_network import MLPClassifier\n",
        "\n",
        "# For the other models that will be used for comparison\n",
        "from sklearn.linear_model import LogisticRegression\n",
        "from sklearn.ensemble import RandomForestClassifier\n",
        "from sklearn.tree import DecisionTreeClassifier\n",
        "from sklearn import svm \n",
        "from sklearn.naive_bayes import GaussianNB\n",
        "from sklearn.neighbors import KNeighborsClassifier"
      ]
    },
    {
      "cell_type": "markdown",
      "metadata": {},
      "source": [
        "## 6. Generating the training and testing sets\n",
        "\n",
        "After performing EDA and preprocessing the dataset, we are now ready to generate the data that will be used in training the model. For this project, we will use 80-20 splits (80% training, 20% testing)."
      ]
    },
    {
      "cell_type": "code",
      "execution_count": 25,
      "metadata": {},
      "outputs": [
        {
          "name": "stdout",
          "output_type": "stream",
          "text": [
            "X_train shape: (12000, 11)\n",
            "y_train shape: (12000,)\n",
            "X_test shape: (3000, 11)\n",
            "y_test shape: (3000,)\n"
          ]
        }
      ],
      "source": [
        "# Initializing the features and target variables\n",
        "X = dataset.drop('Stress Level', axis=1)\n",
        "y = dataset['Stress Level']\n",
        "\n",
        "# Generating the training and testing sets\n",
        "X_train, X_test, y_train, y_test = train_test_split(X, y, test_size=0.2, random_state=22)\n",
        "\n",
        "# Displaying the dimensions of the training and testing sets\n",
        "print(f\"X_train shape: {X_train.shape}\")\n",
        "print(f\"y_train shape: {y_train.shape}\")\n",
        "print(f\"X_test shape: {X_test.shape}\")\n",
        "print(f\"y_test shape: {y_test.shape}\")"
      ]
    },
    {
      "cell_type": "code",
      "execution_count": 26,
      "metadata": {},
      "outputs": [
        {
          "data": {
            "text/html": [
              "<div>\n",
              "<style scoped>\n",
              "    .dataframe tbody tr th:only-of-type {\n",
              "        vertical-align: middle;\n",
              "    }\n",
              "\n",
              "    .dataframe tbody tr th {\n",
              "        vertical-align: top;\n",
              "    }\n",
              "\n",
              "    .dataframe thead th {\n",
              "        text-align: right;\n",
              "    }\n",
              "</style>\n",
              "<table border=\"1\" class=\"dataframe\">\n",
              "  <thead>\n",
              "    <tr style=\"text-align: right;\">\n",
              "      <th></th>\n",
              "      <th>Gender</th>\n",
              "      <th>Age</th>\n",
              "      <th>Sleep Duration</th>\n",
              "      <th>Quality of Sleep</th>\n",
              "      <th>Physical Activity Level</th>\n",
              "      <th>BMI Category</th>\n",
              "      <th>Heart Rate</th>\n",
              "      <th>Daily Steps</th>\n",
              "      <th>Sleep Disorder</th>\n",
              "      <th>Systolic Blood Pressure</th>\n",
              "      <th>Diastolic Blood Pressure</th>\n",
              "    </tr>\n",
              "  </thead>\n",
              "  <tbody>\n",
              "    <tr>\n",
              "      <th>5452</th>\n",
              "      <td>0</td>\n",
              "      <td>50</td>\n",
              "      <td>6.05</td>\n",
              "      <td>6</td>\n",
              "      <td>90</td>\n",
              "      <td>2</td>\n",
              "      <td>75</td>\n",
              "      <td>10000</td>\n",
              "      <td>2</td>\n",
              "      <td>140</td>\n",
              "      <td>95</td>\n",
              "    </tr>\n",
              "    <tr>\n",
              "      <th>28</th>\n",
              "      <td>1</td>\n",
              "      <td>34</td>\n",
              "      <td>7.85</td>\n",
              "      <td>8</td>\n",
              "      <td>72</td>\n",
              "      <td>0</td>\n",
              "      <td>69</td>\n",
              "      <td>7500</td>\n",
              "      <td>0</td>\n",
              "      <td>120</td>\n",
              "      <td>80</td>\n",
              "    </tr>\n",
              "    <tr>\n",
              "      <th>1031</th>\n",
              "      <td>1</td>\n",
              "      <td>37</td>\n",
              "      <td>6.65</td>\n",
              "      <td>7</td>\n",
              "      <td>50</td>\n",
              "      <td>0</td>\n",
              "      <td>72</td>\n",
              "      <td>5600</td>\n",
              "      <td>0</td>\n",
              "      <td>121</td>\n",
              "      <td>79</td>\n",
              "    </tr>\n",
              "    <tr>\n",
              "      <th>2489</th>\n",
              "      <td>1</td>\n",
              "      <td>31</td>\n",
              "      <td>6.85</td>\n",
              "      <td>6</td>\n",
              "      <td>52</td>\n",
              "      <td>0</td>\n",
              "      <td>71</td>\n",
              "      <td>6500</td>\n",
              "      <td>0</td>\n",
              "      <td>120</td>\n",
              "      <td>80</td>\n",
              "    </tr>\n",
              "    <tr>\n",
              "      <th>7711</th>\n",
              "      <td>0</td>\n",
              "      <td>44</td>\n",
              "      <td>6.65</td>\n",
              "      <td>7</td>\n",
              "      <td>75</td>\n",
              "      <td>2</td>\n",
              "      <td>72</td>\n",
              "      <td>8500</td>\n",
              "      <td>2</td>\n",
              "      <td>140</td>\n",
              "      <td>95</td>\n",
              "    </tr>\n",
              "    <tr>\n",
              "      <th>...</th>\n",
              "      <td>...</td>\n",
              "      <td>...</td>\n",
              "      <td>...</td>\n",
              "      <td>...</td>\n",
              "      <td>...</td>\n",
              "      <td>...</td>\n",
              "      <td>...</td>\n",
              "      <td>...</td>\n",
              "      <td>...</td>\n",
              "      <td>...</td>\n",
              "      <td>...</td>\n",
              "    </tr>\n",
              "    <tr>\n",
              "      <th>5478</th>\n",
              "      <td>0</td>\n",
              "      <td>54</td>\n",
              "      <td>7.10</td>\n",
              "      <td>8</td>\n",
              "      <td>82</td>\n",
              "      <td>2</td>\n",
              "      <td>72</td>\n",
              "      <td>8500</td>\n",
              "      <td>2</td>\n",
              "      <td>140</td>\n",
              "      <td>95</td>\n",
              "    </tr>\n",
              "    <tr>\n",
              "      <th>8548</th>\n",
              "      <td>0</td>\n",
              "      <td>50</td>\n",
              "      <td>7.45</td>\n",
              "      <td>8</td>\n",
              "      <td>60</td>\n",
              "      <td>2</td>\n",
              "      <td>73</td>\n",
              "      <td>6000</td>\n",
              "      <td>2</td>\n",
              "      <td>140</td>\n",
              "      <td>95</td>\n",
              "    </tr>\n",
              "    <tr>\n",
              "      <th>13100</th>\n",
              "      <td>0</td>\n",
              "      <td>41</td>\n",
              "      <td>6.50</td>\n",
              "      <td>6</td>\n",
              "      <td>40</td>\n",
              "      <td>2</td>\n",
              "      <td>75</td>\n",
              "      <td>5050</td>\n",
              "      <td>1</td>\n",
              "      <td>130</td>\n",
              "      <td>86</td>\n",
              "    </tr>\n",
              "    <tr>\n",
              "      <th>6276</th>\n",
              "      <td>0</td>\n",
              "      <td>54</td>\n",
              "      <td>7.10</td>\n",
              "      <td>8</td>\n",
              "      <td>82</td>\n",
              "      <td>2</td>\n",
              "      <td>72</td>\n",
              "      <td>8500</td>\n",
              "      <td>2</td>\n",
              "      <td>140</td>\n",
              "      <td>95</td>\n",
              "    </tr>\n",
              "    <tr>\n",
              "      <th>11125</th>\n",
              "      <td>1</td>\n",
              "      <td>36</td>\n",
              "      <td>6.40</td>\n",
              "      <td>6</td>\n",
              "      <td>42</td>\n",
              "      <td>1</td>\n",
              "      <td>74</td>\n",
              "      <td>4750</td>\n",
              "      <td>1</td>\n",
              "      <td>140</td>\n",
              "      <td>90</td>\n",
              "    </tr>\n",
              "  </tbody>\n",
              "</table>\n",
              "<p>12000 rows × 11 columns</p>\n",
              "</div>"
            ],
            "text/plain": [
              "       Gender  Age  Sleep Duration  Quality of Sleep  Physical Activity Level  \\\n",
              "5452        0   50            6.05                 6                       90   \n",
              "28          1   34            7.85                 8                       72   \n",
              "1031        1   37            6.65                 7                       50   \n",
              "2489        1   31            6.85                 6                       52   \n",
              "7711        0   44            6.65                 7                       75   \n",
              "...       ...  ...             ...               ...                      ...   \n",
              "5478        0   54            7.10                 8                       82   \n",
              "8548        0   50            7.45                 8                       60   \n",
              "13100       0   41            6.50                 6                       40   \n",
              "6276        0   54            7.10                 8                       82   \n",
              "11125       1   36            6.40                 6                       42   \n",
              "\n",
              "       BMI Category  Heart Rate  Daily Steps  Sleep Disorder  \\\n",
              "5452              2          75        10000               2   \n",
              "28                0          69         7500               0   \n",
              "1031              0          72         5600               0   \n",
              "2489              0          71         6500               0   \n",
              "7711              2          72         8500               2   \n",
              "...             ...         ...          ...             ...   \n",
              "5478              2          72         8500               2   \n",
              "8548              2          73         6000               2   \n",
              "13100             2          75         5050               1   \n",
              "6276              2          72         8500               2   \n",
              "11125             1          74         4750               1   \n",
              "\n",
              "       Systolic Blood Pressure  Diastolic Blood Pressure  \n",
              "5452                       140                        95  \n",
              "28                         120                        80  \n",
              "1031                       121                        79  \n",
              "2489                       120                        80  \n",
              "7711                       140                        95  \n",
              "...                        ...                       ...  \n",
              "5478                       140                        95  \n",
              "8548                       140                        95  \n",
              "13100                      130                        86  \n",
              "6276                       140                        95  \n",
              "11125                      140                        90  \n",
              "\n",
              "[12000 rows x 11 columns]"
            ]
          },
          "execution_count": 26,
          "metadata": {},
          "output_type": "execute_result"
        }
      ],
      "source": [
        "# Print X_train\n",
        "X_train"
      ]
    },
    {
      "cell_type": "markdown",
      "metadata": {},
      "source": [
        "## 7. Comparing to other models\n"
      ]
    },
    {
      "cell_type": "markdown",
      "metadata": {},
      "source": [
        "### Logistic Regression"
      ]
    },
    {
      "cell_type": "code",
      "execution_count": 27,
      "metadata": {},
      "outputs": [
        {
          "name": "stdout",
          "output_type": "stream",
          "text": [
            "Confusion Matrix : \n",
            " [[ 171    7    0    7   24    1]\n",
            " [  61   26    1  507    9   25]\n",
            " [   8    8    0  228    6    1]\n",
            " [  56    0    0 1088   48   53]\n",
            " [   0    0    0  314    7   14]\n",
            " [   0    0    0  281   38   11]]\n",
            "Classification Report:\n",
            "               precision    recall  f1-score   support\n",
            "\n",
            "           3       0.58      0.81      0.68       210\n",
            "           4       0.63      0.04      0.08       629\n",
            "           5       0.00      0.00      0.00       251\n",
            "           6       0.45      0.87      0.59      1245\n",
            "           7       0.05      0.02      0.03       335\n",
            "           8       0.10      0.03      0.05       330\n",
            "\n",
            "    accuracy                           0.43      3000\n",
            "   macro avg       0.30      0.30      0.24      3000\n",
            "weighted avg       0.38      0.43      0.32      3000\n",
            "\n",
            "The test accuracy of Logistic Regression is :  43.43333333333334 %\n"
          ]
        },
        {
          "name": "stderr",
          "output_type": "stream",
          "text": [
            "c:\\Users\\Calvs\\AppData\\Local\\Programs\\Python\\Python312\\Lib\\site-packages\\sklearn\\linear_model\\_logistic.py:469: ConvergenceWarning: lbfgs failed to converge (status=1):\n",
            "STOP: TOTAL NO. of ITERATIONS REACHED LIMIT.\n",
            "\n",
            "Increase the number of iterations (max_iter) or scale the data as shown in:\n",
            "    https://scikit-learn.org/stable/modules/preprocessing.html\n",
            "Please also refer to the documentation for alternative solver options:\n",
            "    https://scikit-learn.org/stable/modules/linear_model.html#logistic-regression\n",
            "  n_iter_i = _check_optimize_result(\n"
          ]
        }
      ],
      "source": [
        "# Create a logistic regression model\n",
        "log_reg = LogisticRegression(random_state=22)\n",
        "\n",
        "# Fit the model to the training data\n",
        "log_reg.fit(X_train, y_train)\n",
        "\n",
        "# Predict on the testing data\n",
        "y_predict = log_reg.predict(X_test)\n",
        "\n",
        "# Confusion matrix\n",
        "conf_matrx = confusion_matrix(y_test, y_predict)\n",
        "print(\"Confusion Matrix : \\n\", conf_matrx)\n",
        "\n",
        "classif_rep = classification_report(y_test, y_predict)\n",
        "print(\"Classification Report:\\n\", classif_rep)\n",
        "\n",
        "# Printing the test accuracy\n",
        "print(\"The test accuracy of Logistic Regression is : \", accuracy_score(y_test, y_predict) * 100, \"%\")"
      ]
    },
    {
      "cell_type": "markdown",
      "metadata": {},
      "source": [
        "### Naive Bayes"
      ]
    },
    {
      "cell_type": "code",
      "execution_count": 28,
      "metadata": {},
      "outputs": [
        {
          "name": "stdout",
          "output_type": "stream",
          "text": [
            "Confusion Matrix: \n",
            " [[196  14   0   0   0   0]\n",
            " [ 16 434  37 142   0   0]\n",
            " [  0  40 120  89   2   0]\n",
            " [  0  83 135 725 296   6]\n",
            " [  0   0   0  44 286   5]\n",
            " [  0   0   0   2  37 291]]\n",
            "Classification Report: \n",
            "               precision    recall  f1-score   support\n",
            "\n",
            "           3       0.92      0.93      0.93       210\n",
            "           4       0.76      0.69      0.72       629\n",
            "           5       0.41      0.48      0.44       251\n",
            "           6       0.72      0.58      0.65      1245\n",
            "           7       0.46      0.85      0.60       335\n",
            "           8       0.96      0.88      0.92       330\n",
            "\n",
            "    accuracy                           0.68      3000\n",
            "   macro avg       0.71      0.74      0.71      3000\n",
            "weighted avg       0.72      0.68      0.69      3000\n",
            "\n",
            "The test accuracy of Naive Bayes is :  68.4 %\n"
          ]
        }
      ],
      "source": [
        "# Create a naive bayes model\n",
        "naive_bayes = GaussianNB()\n",
        "\n",
        "# Fit the model to the training data\n",
        "naive_bayes.fit(X_train,y_train)\n",
        "\n",
        "# Predict on the testing data\n",
        "y_predict = naive_bayes.predict(X_test)\n",
        "\n",
        "# Confusion matrix\n",
        "conf_matrx = confusion_matrix(y_test, y_predict)\n",
        "print(\"Confusion Matrix: \\n\", conf_matrx)\n",
        "\n",
        "classif_rep = classification_report(y_test, y_predict)\n",
        "print(\"Classification Report: \\n\", classif_rep)\n",
        "\n",
        "# Printing the test accuracy\n",
        "print(\"The test accuracy of Naive Bayes is : \", naive_bayes.score(X_test,y_test) * 100, \"%\")"
      ]
    },
    {
      "cell_type": "markdown",
      "metadata": {},
      "source": [
        "### KNN Classifier"
      ]
    },
    {
      "cell_type": "code",
      "execution_count": 30,
      "metadata": {},
      "outputs": [
        {
          "name": "stdout",
          "output_type": "stream",
          "text": [
            "Confusion Matrix: \n",
            " [[ 206    3    0    0    0    1]\n",
            " [   0  619    5    3    2    0]\n",
            " [   0    2  242    4    1    2]\n",
            " [   3    7    8 1217    5    5]\n",
            " [   0    0    0    8  326    1]\n",
            " [   0    0    1    6    5  318]]\n",
            "Classification Report: \n",
            "               precision    recall  f1-score   support\n",
            "\n",
            "           3       0.99      0.98      0.98       210\n",
            "           4       0.98      0.98      0.98       629\n",
            "           5       0.95      0.96      0.95       251\n",
            "           6       0.98      0.98      0.98      1245\n",
            "           7       0.96      0.97      0.97       335\n",
            "           8       0.97      0.96      0.97       330\n",
            "\n",
            "    accuracy                           0.98      3000\n",
            "   macro avg       0.97      0.97      0.97      3000\n",
            "weighted avg       0.98      0.98      0.98      3000\n",
            "\n",
            "The test accuracy of Naive Bayes is :  97.6 %\n"
          ]
        }
      ],
      "source": [
        "# Create knn model\n",
        "knn = KNeighborsClassifier()\n",
        "\n",
        "# Fit the model to the training data\n",
        "knn.fit(X_train, y_train)\n",
        "\n",
        "# Predict on the testing data\n",
        "y_predict = knn.predict(X_test)\n",
        "\n",
        "# Confusion matrix\n",
        "conf_matrx = confusion_matrix(y_test, y_predict)\n",
        "print(\"Confusion Matrix: \\n\", conf_matrx)\n",
        "\n",
        "classif_rep = classification_report(y_test, y_predict)\n",
        "print(\"Classification Report: \\n\", classif_rep)\n",
        "\n",
        "# Printing the test accuracy\n",
        "print(\"The test accuracy of Naive Bayes is : \", knn.score(X_test,y_test) * 100, \"%\")"
      ]
    },
    {
      "cell_type": "markdown",
      "metadata": {},
      "source": [
        "### Random Forest Classifier"
      ]
    },
    {
      "cell_type": "code",
      "execution_count": 31,
      "metadata": {},
      "outputs": [
        {
          "name": "stdout",
          "output_type": "stream",
          "text": [
            "Confusion Matrix: \n",
            " [[ 210    0    0    0    0    0]\n",
            " [   1  622    4    2    0    0]\n",
            " [   0    4  245    2    0    0]\n",
            " [   0    3    1 1241    0    0]\n",
            " [   0    0    0    2  333    0]\n",
            " [   0    0    0    0    1  329]]\n",
            "Classification Report: \n",
            "               precision    recall  f1-score   support\n",
            "\n",
            "           3       1.00      1.00      1.00       210\n",
            "           4       0.99      0.99      0.99       629\n",
            "           5       0.98      0.98      0.98       251\n",
            "           6       1.00      1.00      1.00      1245\n",
            "           7       1.00      0.99      1.00       335\n",
            "           8       1.00      1.00      1.00       330\n",
            "\n",
            "    accuracy                           0.99      3000\n",
            "   macro avg       0.99      0.99      0.99      3000\n",
            "weighted avg       0.99      0.99      0.99      3000\n",
            "\n",
            "The test accuracy of Random Forest Classifier is :  99.33333333333333 %\n"
          ]
        }
      ],
      "source": [
        "# Create a random forest classifier model\n",
        "random_forest = RandomForestClassifier(n_estimators=13, random_state=22)\n",
        "\n",
        "# Fit the model to the training data\n",
        "random_forest.fit(X_train,y_train)\n",
        "\n",
        "# Predict on the testing data\n",
        "y_predict = random_forest.predict(X_test)\n",
        "\n",
        "# Confusion matrix\n",
        "conf_matrx = confusion_matrix(y_test, y_predict)\n",
        "print(\"Confusion Matrix: \\n\", conf_matrx)\n",
        "\n",
        "classif_rep = classification_report(y_test, y_predict)\n",
        "print(\"Classification Report: \\n\", classif_rep)\n",
        "\n",
        "# Printing the test accuracy\n",
        "print(\"The test accuracy of Random Forest Classifier is : \", random_forest.score(X_test,y_test) * 100, \"%\")"
      ]
    },
    {
      "cell_type": "markdown",
      "metadata": {},
      "source": [
        "### Decision Tree"
      ]
    },
    {
      "cell_type": "code",
      "execution_count": 32,
      "metadata": {},
      "outputs": [
        {
          "name": "stdout",
          "output_type": "stream",
          "text": [
            "Confusion Matrix: \n",
            " [[ 210    0    0    0    0    0]\n",
            " [   0  625    1    3    0    0]\n",
            " [   0    4  245    1    1    0]\n",
            " [   0    2    3 1235    5    0]\n",
            " [   0    0    1    1  333    0]\n",
            " [   0    0    0    0    1  329]]\n",
            "Classification Report: \n",
            "               precision    recall  f1-score   support\n",
            "\n",
            "           3       1.00      1.00      1.00       210\n",
            "           4       0.99      0.99      0.99       629\n",
            "           5       0.98      0.98      0.98       251\n",
            "           6       1.00      0.99      0.99      1245\n",
            "           7       0.98      0.99      0.99       335\n",
            "           8       1.00      1.00      1.00       330\n",
            "\n",
            "    accuracy                           0.99      3000\n",
            "   macro avg       0.99      0.99      0.99      3000\n",
            "weighted avg       0.99      0.99      0.99      3000\n",
            "\n",
            "The test accuracy of Decision Tree is :  99.23333333333333 %\n"
          ]
        }
      ],
      "source": [
        "# Create a decision model\n",
        "decision_tree = DecisionTreeClassifier(random_state=22)\n",
        "\n",
        "# Fit the model to the training data\n",
        "decision_tree.fit(X_train,y_train)\n",
        "\n",
        "# Predict on the testing data\n",
        "y_predict = decision_tree.predict(X_test)\n",
        "\n",
        "# Confusion matrix\n",
        "conf_matrx = confusion_matrix(y_test, y_predict)\n",
        "print(\"Confusion Matrix: \\n\", conf_matrx)\n",
        "\n",
        "classif_rep = classification_report(y_test, y_predict)\n",
        "print(\"Classification Report: \\n\", classif_rep)\n",
        "\n",
        "# Printing the test accuracy\n",
        "print(\"The test accuracy of Decision Tree is : \", decision_tree.score(X_test,y_test) * 100, \"%\")"
      ]
    }
  ],
  "metadata": {
    "colab": {
      "provenance": []
    },
    "kernelspec": {
      "display_name": "Python 3",
      "language": "python",
      "name": "python3"
    },
    "language_info": {
      "codemirror_mode": {
        "name": "ipython",
        "version": 3
      },
      "file_extension": ".py",
      "mimetype": "text/x-python",
      "name": "python",
      "nbconvert_exporter": "python",
      "pygments_lexer": "ipython3",
      "version": "3.12.0"
    }
  },
  "nbformat": 4,
  "nbformat_minor": 0
}
